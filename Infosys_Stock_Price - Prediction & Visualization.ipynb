{
 "cells": [
  {
   "cell_type": "markdown",
   "metadata": {},
   "source": [
    "## Importing the required packages"
   ]
  },
  {
   "cell_type": "code",
   "execution_count": 1,
   "metadata": {},
   "outputs": [],
   "source": [
    "import pandas as pd\n",
    "import numpy as np\n",
    "import matplotlib.pyplot as plt\n",
    "import investpy\n",
    "from tensorflow.keras.models import Sequential\n",
    "from tensorflow.keras.layers import Dense\n",
    "from tensorflow.keras.layers import LSTM\n",
    "from tensorflow.keras.layers import Dropout\n",
    "from tensorflow.keras.layers import *\n",
    "from sklearn.preprocessing import MinMaxScaler"
   ]
  },
  {
   "cell_type": "code",
   "execution_count": 32,
   "metadata": {},
   "outputs": [],
   "source": [
    "%matplotlib inline"
   ]
  },
  {
   "cell_type": "markdown",
   "metadata": {},
   "source": [
    "## Getting data using investpy"
   ]
  },
  {
   "cell_type": "code",
   "execution_count": 2,
   "metadata": {},
   "outputs": [],
   "source": [
    "df = investpy.get_stock_historical_data(stock='INFY',\n",
    "                                        country='India',\n",
    "                                        from_date='01/01/2010',\n",
    "                                        to_date='31/12/2020')"
   ]
  },
  {
   "cell_type": "markdown",
   "metadata": {},
   "source": [
    "## Data Preprocessing"
   ]
  },
  {
   "cell_type": "code",
   "execution_count": 3,
   "metadata": {},
   "outputs": [
    {
     "data": {
      "text/html": [
       "<div>\n",
       "<style scoped>\n",
       "    .dataframe tbody tr th:only-of-type {\n",
       "        vertical-align: middle;\n",
       "    }\n",
       "\n",
       "    .dataframe tbody tr th {\n",
       "        vertical-align: top;\n",
       "    }\n",
       "\n",
       "    .dataframe thead th {\n",
       "        text-align: right;\n",
       "    }\n",
       "</style>\n",
       "<table border=\"1\" class=\"dataframe\">\n",
       "  <thead>\n",
       "    <tr style=\"text-align: right;\">\n",
       "      <th></th>\n",
       "      <th>Open</th>\n",
       "      <th>High</th>\n",
       "      <th>Low</th>\n",
       "      <th>Close</th>\n",
       "      <th>Volume</th>\n",
       "      <th>Currency</th>\n",
       "    </tr>\n",
       "    <tr>\n",
       "      <th>Date</th>\n",
       "      <th></th>\n",
       "      <th></th>\n",
       "      <th></th>\n",
       "      <th></th>\n",
       "      <th></th>\n",
       "      <th></th>\n",
       "    </tr>\n",
       "  </thead>\n",
       "  <tbody>\n",
       "    <tr>\n",
       "      <th>2010-01-04</th>\n",
       "      <td>323.69</td>\n",
       "      <td>326.17</td>\n",
       "      <td>321.87</td>\n",
       "      <td>324.01</td>\n",
       "      <td>4069264</td>\n",
       "      <td>INR</td>\n",
       "    </tr>\n",
       "    <tr>\n",
       "      <th>2010-01-05</th>\n",
       "      <td>324.93</td>\n",
       "      <td>326.26</td>\n",
       "      <td>322.46</td>\n",
       "      <td>325.10</td>\n",
       "      <td>6895528</td>\n",
       "      <td>INR</td>\n",
       "    </tr>\n",
       "    <tr>\n",
       "      <th>2010-01-06</th>\n",
       "      <td>332.74</td>\n",
       "      <td>332.74</td>\n",
       "      <td>319.36</td>\n",
       "      <td>320.35</td>\n",
       "      <td>6817288</td>\n",
       "      <td>INR</td>\n",
       "    </tr>\n",
       "    <tr>\n",
       "      <th>2010-01-07</th>\n",
       "      <td>320.79</td>\n",
       "      <td>320.79</td>\n",
       "      <td>312.31</td>\n",
       "      <td>313.16</td>\n",
       "      <td>10892600</td>\n",
       "      <td>INR</td>\n",
       "    </tr>\n",
       "    <tr>\n",
       "      <th>2010-01-08</th>\n",
       "      <td>312.41</td>\n",
       "      <td>312.94</td>\n",
       "      <td>304.84</td>\n",
       "      <td>305.61</td>\n",
       "      <td>12649312</td>\n",
       "      <td>INR</td>\n",
       "    </tr>\n",
       "  </tbody>\n",
       "</table>\n",
       "</div>"
      ],
      "text/plain": [
       "              Open    High     Low   Close    Volume Currency\n",
       "Date                                                         \n",
       "2010-01-04  323.69  326.17  321.87  324.01   4069264      INR\n",
       "2010-01-05  324.93  326.26  322.46  325.10   6895528      INR\n",
       "2010-01-06  332.74  332.74  319.36  320.35   6817288      INR\n",
       "2010-01-07  320.79  320.79  312.31  313.16  10892600      INR\n",
       "2010-01-08  312.41  312.94  304.84  305.61  12649312      INR"
      ]
     },
     "execution_count": 3,
     "metadata": {},
     "output_type": "execute_result"
    }
   ],
   "source": [
    "df.head()"
   ]
  },
  {
   "cell_type": "code",
   "execution_count": 4,
   "metadata": {},
   "outputs": [
    {
     "data": {
      "text/html": [
       "<div>\n",
       "<style scoped>\n",
       "    .dataframe tbody tr th:only-of-type {\n",
       "        vertical-align: middle;\n",
       "    }\n",
       "\n",
       "    .dataframe tbody tr th {\n",
       "        vertical-align: top;\n",
       "    }\n",
       "\n",
       "    .dataframe thead th {\n",
       "        text-align: right;\n",
       "    }\n",
       "</style>\n",
       "<table border=\"1\" class=\"dataframe\">\n",
       "  <thead>\n",
       "    <tr style=\"text-align: right;\">\n",
       "      <th></th>\n",
       "      <th>Open</th>\n",
       "      <th>High</th>\n",
       "      <th>Low</th>\n",
       "      <th>Close</th>\n",
       "      <th>Volume</th>\n",
       "      <th>Currency</th>\n",
       "    </tr>\n",
       "    <tr>\n",
       "      <th>Date</th>\n",
       "      <th></th>\n",
       "      <th></th>\n",
       "      <th></th>\n",
       "      <th></th>\n",
       "      <th></th>\n",
       "      <th></th>\n",
       "    </tr>\n",
       "  </thead>\n",
       "  <tbody>\n",
       "    <tr>\n",
       "      <th>2020-12-24</th>\n",
       "      <td>1249.90</td>\n",
       "      <td>1249.90</td>\n",
       "      <td>1226.00</td>\n",
       "      <td>1236.05</td>\n",
       "      <td>7313885</td>\n",
       "      <td>INR</td>\n",
       "    </tr>\n",
       "    <tr>\n",
       "      <th>2020-12-28</th>\n",
       "      <td>1238.45</td>\n",
       "      <td>1248.00</td>\n",
       "      <td>1236.00</td>\n",
       "      <td>1240.30</td>\n",
       "      <td>4607051</td>\n",
       "      <td>INR</td>\n",
       "    </tr>\n",
       "    <tr>\n",
       "      <th>2020-12-29</th>\n",
       "      <td>1235.00</td>\n",
       "      <td>1254.45</td>\n",
       "      <td>1235.00</td>\n",
       "      <td>1250.30</td>\n",
       "      <td>6878105</td>\n",
       "      <td>INR</td>\n",
       "    </tr>\n",
       "    <tr>\n",
       "      <th>2020-12-30</th>\n",
       "      <td>1253.00</td>\n",
       "      <td>1253.30</td>\n",
       "      <td>1238.15</td>\n",
       "      <td>1246.80</td>\n",
       "      <td>5194690</td>\n",
       "      <td>INR</td>\n",
       "    </tr>\n",
       "    <tr>\n",
       "      <th>2020-12-31</th>\n",
       "      <td>1243.00</td>\n",
       "      <td>1258.40</td>\n",
       "      <td>1239.00</td>\n",
       "      <td>1255.80</td>\n",
       "      <td>7430470</td>\n",
       "      <td>INR</td>\n",
       "    </tr>\n",
       "  </tbody>\n",
       "</table>\n",
       "</div>"
      ],
      "text/plain": [
       "               Open     High      Low    Close   Volume Currency\n",
       "Date                                                            \n",
       "2020-12-24  1249.90  1249.90  1226.00  1236.05  7313885      INR\n",
       "2020-12-28  1238.45  1248.00  1236.00  1240.30  4607051      INR\n",
       "2020-12-29  1235.00  1254.45  1235.00  1250.30  6878105      INR\n",
       "2020-12-30  1253.00  1253.30  1238.15  1246.80  5194690      INR\n",
       "2020-12-31  1243.00  1258.40  1239.00  1255.80  7430470      INR"
      ]
     },
     "execution_count": 4,
     "metadata": {},
     "output_type": "execute_result"
    }
   ],
   "source": [
    "df.tail()"
   ]
  },
  {
   "cell_type": "code",
   "execution_count": 5,
   "metadata": {},
   "outputs": [],
   "source": [
    "df = df.drop(['Open','Low','Volume','Currency','High'],axis=1)"
   ]
  },
  {
   "cell_type": "code",
   "execution_count": 6,
   "metadata": {},
   "outputs": [
    {
     "data": {
      "text/html": [
       "<div>\n",
       "<style scoped>\n",
       "    .dataframe tbody tr th:only-of-type {\n",
       "        vertical-align: middle;\n",
       "    }\n",
       "\n",
       "    .dataframe tbody tr th {\n",
       "        vertical-align: top;\n",
       "    }\n",
       "\n",
       "    .dataframe thead th {\n",
       "        text-align: right;\n",
       "    }\n",
       "</style>\n",
       "<table border=\"1\" class=\"dataframe\">\n",
       "  <thead>\n",
       "    <tr style=\"text-align: right;\">\n",
       "      <th></th>\n",
       "      <th>Close</th>\n",
       "    </tr>\n",
       "    <tr>\n",
       "      <th>Date</th>\n",
       "      <th></th>\n",
       "    </tr>\n",
       "  </thead>\n",
       "  <tbody>\n",
       "    <tr>\n",
       "      <th>2010-01-04</th>\n",
       "      <td>324.01</td>\n",
       "    </tr>\n",
       "    <tr>\n",
       "      <th>2010-01-05</th>\n",
       "      <td>325.10</td>\n",
       "    </tr>\n",
       "    <tr>\n",
       "      <th>2010-01-06</th>\n",
       "      <td>320.35</td>\n",
       "    </tr>\n",
       "    <tr>\n",
       "      <th>2010-01-07</th>\n",
       "      <td>313.16</td>\n",
       "    </tr>\n",
       "    <tr>\n",
       "      <th>2010-01-08</th>\n",
       "      <td>305.61</td>\n",
       "    </tr>\n",
       "  </tbody>\n",
       "</table>\n",
       "</div>"
      ],
      "text/plain": [
       "             Close\n",
       "Date              \n",
       "2010-01-04  324.01\n",
       "2010-01-05  325.10\n",
       "2010-01-06  320.35\n",
       "2010-01-07  313.16\n",
       "2010-01-08  305.61"
      ]
     },
     "execution_count": 6,
     "metadata": {},
     "output_type": "execute_result"
    }
   ],
   "source": [
    "df.head()"
   ]
  },
  {
   "cell_type": "code",
   "execution_count": 7,
   "metadata": {},
   "outputs": [],
   "source": [
    "df = df.sort_values('Date')"
   ]
  },
  {
   "cell_type": "code",
   "execution_count": 8,
   "metadata": {},
   "outputs": [
    {
     "data": {
      "text/html": [
       "<div>\n",
       "<style scoped>\n",
       "    .dataframe tbody tr th:only-of-type {\n",
       "        vertical-align: middle;\n",
       "    }\n",
       "\n",
       "    .dataframe tbody tr th {\n",
       "        vertical-align: top;\n",
       "    }\n",
       "\n",
       "    .dataframe thead th {\n",
       "        text-align: right;\n",
       "    }\n",
       "</style>\n",
       "<table border=\"1\" class=\"dataframe\">\n",
       "  <thead>\n",
       "    <tr style=\"text-align: right;\">\n",
       "      <th></th>\n",
       "      <th>Close</th>\n",
       "    </tr>\n",
       "    <tr>\n",
       "      <th>Date</th>\n",
       "      <th></th>\n",
       "    </tr>\n",
       "  </thead>\n",
       "  <tbody>\n",
       "    <tr>\n",
       "      <th>2010-01-04</th>\n",
       "      <td>324.01</td>\n",
       "    </tr>\n",
       "    <tr>\n",
       "      <th>2010-01-05</th>\n",
       "      <td>325.10</td>\n",
       "    </tr>\n",
       "    <tr>\n",
       "      <th>2010-01-06</th>\n",
       "      <td>320.35</td>\n",
       "    </tr>\n",
       "    <tr>\n",
       "      <th>2010-01-07</th>\n",
       "      <td>313.16</td>\n",
       "    </tr>\n",
       "    <tr>\n",
       "      <th>2010-01-08</th>\n",
       "      <td>305.61</td>\n",
       "    </tr>\n",
       "  </tbody>\n",
       "</table>\n",
       "</div>"
      ],
      "text/plain": [
       "             Close\n",
       "Date              \n",
       "2010-01-04  324.01\n",
       "2010-01-05  325.10\n",
       "2010-01-06  320.35\n",
       "2010-01-07  313.16\n",
       "2010-01-08  305.61"
      ]
     },
     "execution_count": 8,
     "metadata": {},
     "output_type": "execute_result"
    }
   ],
   "source": [
    "df.head()"
   ]
  },
  {
   "cell_type": "code",
   "execution_count": 9,
   "metadata": {},
   "outputs": [
    {
     "data": {
      "text/plain": [
       "Close    0\n",
       "dtype: int64"
      ]
     },
     "execution_count": 9,
     "metadata": {},
     "output_type": "execute_result"
    }
   ],
   "source": [
    "df.isnull().sum()"
   ]
  },
  {
   "cell_type": "markdown",
   "metadata": {},
   "source": [
    "## Plotting the stock price data"
   ]
  },
  {
   "cell_type": "code",
   "execution_count": 10,
   "metadata": {},
   "outputs": [
    {
     "data": {
      "image/png": "[encoded data removed]",
      "text/plain": [
       "<Figure size 1440x720 with 1 Axes>"
      ]
     },
     "metadata": {
      "needs_background": "light"
     },
     "output_type": "display_data"
    }
   ],
   "source": [
    "plt.figure(figsize=(20,10))\n",
    "plt.plot(df.index, df['Close'])\n",
    "plt.xlabel(\"Date\")\n",
    "plt.ylabel(\"Infosys Stock Price\")\n",
    "plt.xticks(rotation=70)\n",
    "plt.legend([\"INFY\"])\n",
    "plt.title(\"Infosys Stock Price Visualisation 01/01/2010 - 31/12/2020\")\n",
    "plt.savefig('Infosys_data_visualisation-1.png', bbox_inches='tight')"
   ]
  },
  {
   "cell_type": "markdown",
   "metadata": {},
   "source": [
    "## Model Building Initial Steps"
   ]
  },
  {
   "cell_type": "code",
   "execution_count": 11,
   "metadata": {},
   "outputs": [],
   "source": [
    "df1 = df.reset_index()"
   ]
  },
  {
   "cell_type": "code",
   "execution_count": 12,
   "metadata": {},
   "outputs": [
    {
     "data": {
      "text/html": [
       "<div>\n",
       "<style scoped>\n",
       "    .dataframe tbody tr th:only-of-type {\n",
       "        vertical-align: middle;\n",
       "    }\n",
       "\n",
       "    .dataframe tbody tr th {\n",
       "        vertical-align: top;\n",
       "    }\n",
       "\n",
       "    .dataframe thead th {\n",
       "        text-align: right;\n",
       "    }\n",
       "</style>\n",
       "<table border=\"1\" class=\"dataframe\">\n",
       "  <thead>\n",
       "    <tr style=\"text-align: right;\">\n",
       "      <th></th>\n",
       "      <th>Date</th>\n",
       "      <th>Close</th>\n",
       "    </tr>\n",
       "  </thead>\n",
       "  <tbody>\n",
       "    <tr>\n",
       "      <th>0</th>\n",
       "      <td>2010-01-04</td>\n",
       "      <td>324.01</td>\n",
       "    </tr>\n",
       "    <tr>\n",
       "      <th>1</th>\n",
       "      <td>2010-01-05</td>\n",
       "      <td>325.10</td>\n",
       "    </tr>\n",
       "    <tr>\n",
       "      <th>2</th>\n",
       "      <td>2010-01-06</td>\n",
       "      <td>320.35</td>\n",
       "    </tr>\n",
       "    <tr>\n",
       "      <th>3</th>\n",
       "      <td>2010-01-07</td>\n",
       "      <td>313.16</td>\n",
       "    </tr>\n",
       "    <tr>\n",
       "      <th>4</th>\n",
       "      <td>2010-01-08</td>\n",
       "      <td>305.61</td>\n",
       "    </tr>\n",
       "  </tbody>\n",
       "</table>\n",
       "</div>"
      ],
      "text/plain": [
       "        Date   Close\n",
       "0 2010-01-04  324.01\n",
       "1 2010-01-05  325.10\n",
       "2 2010-01-06  320.35\n",
       "3 2010-01-07  313.16\n",
       "4 2010-01-08  305.61"
      ]
     },
     "execution_count": 12,
     "metadata": {},
     "output_type": "execute_result"
    }
   ],
   "source": [
    "df1.head()"
   ]
  },
  {
   "cell_type": "code",
   "execution_count": 17,
   "metadata": {},
   "outputs": [],
   "source": [
    "training_samples_count = df1.index[df1['Date'] == '01/01/2020']"
   ]
  },
  {
   "cell_type": "code",
   "execution_count": 18,
   "metadata": {},
   "outputs": [
    {
     "name": "stdout",
     "output_type": "stream",
     "text": [
      "Int64Index([2478], dtype='int64')\n"
     ]
    }
   ],
   "source": [
    "print(training_samples_count)"
   ]
  },
  {
   "cell_type": "markdown",
   "metadata": {},
   "source": [
    "#### This implies that 2477 samples will be used for training and remaining will be used for prediction as the test set."
   ]
  },
  {
   "cell_type": "code",
   "execution_count": 19,
   "metadata": {},
   "outputs": [],
   "source": [
    "training_set = df.iloc[:2478].values\n",
    "test_set = df.iloc[2478:].values"
   ]
  },
  {
   "cell_type": "markdown",
   "metadata": {},
   "source": [
    "## Performing Feature Scaling"
   ]
  },
  {
   "cell_type": "code",
   "execution_count": 20,
   "metadata": {},
   "outputs": [],
   "source": [
    "sc = MinMaxScaler(feature_range = (0, 1))\n",
    "training_set_scaled = sc.fit_transform(training_set)\n",
    "X_train = []\n",
    "y_train = []\n",
    "for i in range(60, 2478):\n",
    "    X_train.append(training_set_scaled[i-60:i, 0])\n",
    "    y_train.append(training_set_scaled[i, 0])\n",
    "X_train, y_train = np.array(X_train), np.array(y_train)\n",
    "X_train = np.reshape(X_train, (X_train.shape[0], X_train.shape[1], 1))"
   ]
  },
  {
   "cell_type": "markdown",
   "metadata": {},
   "source": [
    "## Training the Model"
   ]
  },
  {
   "cell_type": "code",
   "execution_count": 21,
   "metadata": {},
   "outputs": [
    {
     "name": "stdout",
     "output_type": "stream",
     "text": [
      "Epoch 1/50\n",
      "76/76 [==============================] - 6s 73ms/step - loss: 0.0135\n",
      "Epoch 2/50\n",
      "76/76 [==============================] - 6s 75ms/step - loss: 0.0039\n",
      "Epoch 3/50\n",
      "76/76 [==============================] - 6s 79ms/step - loss: 0.0034\n",
      "Epoch 4/50\n",
      "76/76 [==============================] - 6s 81ms/step - loss: 0.0034\n",
      "Epoch 5/50\n",
      "76/76 [==============================] - 6s 79ms/step - loss: 0.0031\n",
      "Epoch 6/50\n",
      "76/76 [==============================] - 6s 82ms/step - loss: 0.0028\n",
      "Epoch 7/50\n",
      "76/76 [==============================] - 6s 85ms/step - loss: 0.0027\n",
      "Epoch 8/50\n",
      "76/76 [==============================] - 7s 87ms/step - loss: 0.0028\n",
      "Epoch 9/50\n",
      "76/76 [==============================] - 7s 87ms/step - loss: 0.0024\n",
      "Epoch 10/50\n",
      "76/76 [==============================] - 7s 91ms/step - loss: 0.0026\n",
      "Epoch 11/50\n",
      "76/76 [==============================] - 7s 94ms/step - loss: 0.0025\n",
      "Epoch 12/50\n",
      "76/76 [==============================] - 7s 95ms/step - loss: 0.0024\n",
      "Epoch 13/50\n",
      "76/76 [==============================] - 7s 87ms/step - loss: 0.0022\n",
      "Epoch 14/50\n",
      "76/76 [==============================] - 7s 86ms/step - loss: 0.0021\n",
      "Epoch 15/50\n",
      "76/76 [==============================] - 6s 85ms/step - loss: 0.0025\n",
      "Epoch 16/50\n",
      "76/76 [==============================] - 7s 86ms/step - loss: 0.0021\n",
      "Epoch 17/50\n",
      "76/76 [==============================] - 6s 85ms/step - loss: 0.0020\n",
      "Epoch 18/50\n",
      "76/76 [==============================] - 6s 85ms/step - loss: 0.0021\n",
      "Epoch 19/50\n",
      "76/76 [==============================] - 7s 86ms/step - loss: 0.0018\n",
      "Epoch 20/50\n",
      "76/76 [==============================] - 7s 86ms/step - loss: 0.0017\n",
      "Epoch 21/50\n",
      "76/76 [==============================] - 6s 85ms/step - loss: 0.0017\n",
      "Epoch 22/50\n",
      "76/76 [==============================] - 6s 85ms/step - loss: 0.0016\n",
      "Epoch 23/50\n",
      "76/76 [==============================] - 7s 96ms/step - loss: 0.0018\n",
      "Epoch 24/50\n",
      "76/76 [==============================] - 9s 114ms/step - loss: 0.0017\n",
      "Epoch 25/50\n",
      "76/76 [==============================] - 9s 122ms/step - loss: 0.0015\n",
      "Epoch 26/50\n",
      "76/76 [==============================] - 12s 155ms/step - loss: 0.0016\n",
      "Epoch 27/50\n",
      "76/76 [==============================] - 8s 102ms/step - loss: 0.0016\n",
      "Epoch 28/50\n",
      "76/76 [==============================] - 9s 114ms/step - loss: 0.0015\n",
      "Epoch 29/50\n",
      "76/76 [==============================] - 8s 108ms/step - loss: 0.0015\n",
      "Epoch 30/50\n",
      "76/76 [==============================] - 8s 99ms/step - loss: 0.0013\n",
      "Epoch 31/50\n",
      "76/76 [==============================] - 7s 91ms/step - loss: 0.0014\n",
      "Epoch 32/50\n",
      "76/76 [==============================] - 7s 86ms/step - loss: 0.0013\n",
      "Epoch 33/50\n",
      "76/76 [==============================] - 7s 92ms/step - loss: 0.0015\n",
      "Epoch 34/50\n",
      "76/76 [==============================] - 7s 90ms/step - loss: 0.0013\n",
      "Epoch 35/50\n",
      "76/76 [==============================] - 7s 88ms/step - loss: 0.0013\n",
      "Epoch 36/50\n",
      "76/76 [==============================] - 7s 86ms/step - loss: 0.0013\n",
      "Epoch 37/50\n",
      "76/76 [==============================] - 7s 91ms/step - loss: 0.0013\n",
      "Epoch 38/50\n",
      "76/76 [==============================] - 7s 90ms/step - loss: 0.0012\n",
      "Epoch 39/50\n",
      "76/76 [==============================] - 7s 91ms/step - loss: 0.0013\n",
      "Epoch 40/50\n",
      "76/76 [==============================] - 7s 89ms/step - loss: 0.0012\n",
      "Epoch 41/50\n",
      "76/76 [==============================] - 7s 92ms/step - loss: 0.0011\n",
      "Epoch 42/50\n",
      "76/76 [==============================] - 6s 85ms/step - loss: 0.0012\n",
      "Epoch 43/50\n",
      "76/76 [==============================] - 6s 85ms/step - loss: 0.0011\n",
      "Epoch 44/50\n",
      "76/76 [==============================] - 7s 86ms/step - loss: 9.9140e-04\n",
      "Epoch 45/50\n",
      "76/76 [==============================] - 7s 92ms/step - loss: 0.0011\n",
      "Epoch 46/50\n",
      "76/76 [==============================] - 7s 88ms/step - loss: 0.0011\n",
      "Epoch 47/50\n",
      "76/76 [==============================] - 6s 85ms/step - loss: 0.0011\n",
      "Epoch 48/50\n",
      "76/76 [==============================] - 6s 85ms/step - loss: 0.0010\n",
      "Epoch 49/50\n",
      "76/76 [==============================] - 6s 84ms/step - loss: 0.0012\n",
      "Epoch 50/50\n",
      "76/76 [==============================] - 6s 85ms/step - loss: 0.0011\n"
     ]
    },
    {
     "data": {
      "text/plain": [
       "<tensorflow.python.keras.callbacks.History at 0x7f2f55514670>"
      ]
     },
     "execution_count": 21,
     "metadata": {},
     "output_type": "execute_result"
    }
   ],
   "source": [
    "model = Sequential()\n",
    "model.add(LSTM(units = 50, return_sequences = True, input_shape = (X_train.shape[1], 1)))\n",
    "model.add(Dropout(0.2))\n",
    "model.add(LSTM(units = 50, return_sequences = True))\n",
    "model.add(Dropout(0.2))\n",
    "model.add(LSTM(units = 50, return_sequences = True))\n",
    "model.add(Dropout(0.2))\n",
    "model.add(LSTM(units = 50))\n",
    "model.add(Dropout(0.2))\n",
    "model.add(Dense(units = 1))\n",
    "\n",
    "# Compiling the LSTM\n",
    "model.compile(optimizer = 'adam', loss = 'mean_squared_error')\n",
    "\n",
    "# Fitting the LSTM to the Training set\n",
    "model.fit(X_train, y_train, epochs = 50, batch_size = 32)"
   ]
  },
  {
   "cell_type": "markdown",
   "metadata": {},
   "source": [
    "## Preparing for Testing and Predicting"
   ]
  },
  {
   "cell_type": "code",
   "execution_count": 22,
   "metadata": {},
   "outputs": [
    {
     "name": "stdout",
     "output_type": "stream",
     "text": [
      "(251, 60, 1)\n"
     ]
    }
   ],
   "source": [
    "dataset_train = df.iloc[:2478]\n",
    "dataset_test = df.iloc[2478:]\n",
    "dataset_total = pd.concat((dataset_train, dataset_test), axis = 0)\n",
    "inputs = dataset_total[len(dataset_total) - len(dataset_test) - 60:].values\n",
    "inputs = inputs.reshape(-1,1)\n",
    "inputs = sc.transform(inputs)\n",
    "X_test = []\n",
    "for i in range(60,len(df)-len(dataset_train)+60):\n",
    "    X_test.append(inputs[i-60:i, 0])\n",
    "X_test = np.array(X_test)\n",
    "X_test = np.reshape(X_test, (X_test.shape[0], X_test.shape[1], 1))\n",
    "print(X_test.shape)"
   ]
  },
  {
   "cell_type": "code",
   "execution_count": 23,
   "metadata": {},
   "outputs": [],
   "source": [
    "predicted_stock_price = model.predict(X_test)\n",
    "predicted_stock_price = sc.inverse_transform(predicted_stock_price)"
   ]
  },
  {
   "cell_type": "markdown",
   "metadata": {},
   "source": [
    "## Visualisation of predicted results"
   ]
  },
  {
   "cell_type": "code",
   "execution_count": 24,
   "metadata": {},
   "outputs": [],
   "source": [
    "dates = df1[2478:]['Date'].to_numpy()\n",
    "dates = [str(date)[0:10] for date in dates]"
   ]
  },
  {
   "cell_type": "code",
   "execution_count": 34,
   "metadata": {},
   "outputs": [
    {
     "data": {
      "image/png": "[encoded data removed]",
      "text/plain": [
       "<Figure size 1440x720 with 1 Axes>"
      ]
     },
     "metadata": {
      "needs_background": "light"
     },
     "output_type": "display_data"
    }
   ],
   "source": [
    "plt.figure(figsize=(20,10))\n",
    "plt.plot(dates,dataset_test.values, color = 'red', label ='Real Infosys Stock Price')\n",
    "plt.plot(dates,predicted_stock_price, color = 'blue', label = 'Predicted Infosys Stock Price')\n",
    "plt.xticks(np.arange(0,len(dataset_test),10))\n",
    "plt.title('Infosys Stock Price Prediction')\n",
    "plt.xticks(rotation=80)\n",
    "plt.xlabel('Date')\n",
    "plt.ylabel('Infosys Stock Price')\n",
    "plt.legend()\n",
    "plt.savefig('Infosys_data_visualisation-2.png')\n",
    "plt.show()"
   ]
  }
 ],
 "metadata": {
  "kernelspec": {
   "display_name": "Python 3",
   "language": "python",
   "name": "python3"
  },
  "language_info": {
   "codemirror_mode": {
    "name": "ipython",
    "version": 3
   },
   "file_extension": ".py",
   "mimetype": "text/x-python",
   "name": "python",
   "nbconvert_exporter": "python",
   "pygments_lexer": "ipython3",
   "version": "3.8.5"
  }
 },
 "nbformat": 4,
 "nbformat_minor": 4
}
